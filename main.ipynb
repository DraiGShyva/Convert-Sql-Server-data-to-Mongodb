{
 "cells": [
  {
   "cell_type": "code",
   "execution_count": 10,
   "metadata": {},
   "outputs": [],
   "source": [
    "import pymongo #type: ignore\n",
    "import pyodbc #type: ignore"
   ]
  },
  {
   "cell_type": "code",
   "execution_count": 11,
   "metadata": {},
   "outputs": [],
   "source": [
    "# Khai báo thông tin kết nối\n",
    "stringConectionSqlServer = 'DRIVER={ODBC Driver 17 for SQL Server};SERVER=127.0.0.1;DATABASE=master;UID=sa;PWD=111111'\n",
    "stringConectionMongo = 'mongodb://localhost:27017'\n",
    "\n",
    "# Khai báo tên database\n",
    "dbName = 'HOADON'\n",
    "\n",
    "# Danh sách từ khóa nếu tên bảng chứa nó thì loại bỏ\n",
    "listKeyword = ['merge', 'snapshot', 'repl', 'diagram']"
   ]
  },
  {
   "cell_type": "code",
   "execution_count": 12,
   "metadata": {},
   "outputs": [],
   "source": [
    "# Kết nối Sql Server\n",
    "conn_sql = pyodbc.connect(stringConectionSqlServer)"
   ]
  },
  {
   "cell_type": "code",
   "execution_count": 13,
   "metadata": {},
   "outputs": [],
   "source": [
    "# Kết nối đến MongoDB\n",
    "client = pymongo.MongoClient(stringConectionMongo)"
   ]
  },
  {
   "cell_type": "code",
   "execution_count": 14,
   "metadata": {},
   "outputs": [
    {
     "data": {
      "text/plain": [
       "['KHACHHANG', 'MUCTIENGIO', 'PHONG', 'DICHVU', 'HOADON', 'CHITIET_SUDUNGDV']"
      ]
     },
     "execution_count": 14,
     "metadata": {},
     "output_type": "execute_result"
    }
   ],
   "source": [
    "# Trích xuất dữ liệu từ SQL Server\n",
    "cursor = conn_sql.cursor()\n",
    "cursor.execute(\"SELECT * FROM \" + dbName + \".INFORMATION_SCHEMA.TABLES WHERE TABLE_TYPE = 'BASE TABLE'\")\n",
    "listTable = [table[2] for table in cursor.fetchall() if not any(keyword in table[2].lower() for keyword in listKeyword)]\n",
    "listTable"
   ]
  },
  {
   "cell_type": "code",
   "execution_count": 15,
   "metadata": {},
   "outputs": [],
   "source": [
    "# Lấy database trên MongoDB theo tên\n",
    "db = client[dbName]"
   ]
  },
  {
   "cell_type": "code",
   "execution_count": 16,
   "metadata": {},
   "outputs": [
    {
     "name": "stdout",
     "output_type": "stream",
     "text": [
      "Tạo collection KHACHHANG thành công\n",
      "Tạo collection MUCTIENGIO thành công\n",
      "Tạo collection PHONG thành công\n",
      "Tạo collection DICHVU thành công\n",
      "Tạo collection HOADON thành công\n",
      "Tạo collection CHITIET_SUDUNGDV thành công\n"
     ]
    }
   ],
   "source": [
    "# Tạo collection trên MongoDB\n",
    "for table in listTable:\n",
    "    if table not in db.list_collection_names():\n",
    "        db.create_collection(table)\n",
    "        print(\"Tạo collection \" + table + \" thành công\")\n",
    "    else:\n",
    "        print(\"Collection \" + table + \" đã tồn tại\")"
   ]
  },
  {
   "cell_type": "code",
   "execution_count": 17,
   "metadata": {},
   "outputs": [
    {
     "name": "stdout",
     "output_type": "stream",
     "text": [
      "Inserted document: {'MaKH': 'KH001', 'TenKH': 'Tran Van Nam', 'DiaChi': 'Hai Chau', 'SoDT': '0905123456', 'MaSoThue': '12345678', '_id': ObjectId('663c810db11cfd91c8ad86d2')}\n",
      "Inserted document: {'MaKH': 'KH002', 'TenKH': 'Nguyen Mai Anh', 'DiaChi': 'Lien Chieu', 'SoDT': '0905123456', 'MaSoThue': '12345679', '_id': ObjectId('663c810db11cfd91c8ad86d3')}\n",
      "Inserted document: {'MaKH': 'KH003', 'TenKH': 'Phan Hoai Lan Khue', 'DiaChi': 'Hoa Vang', 'SoDT': '0905123456', 'MaSoThue': '12345680', '_id': ObjectId('663c810db11cfd91c8ad86d4')}\n",
      "Inserted document: {'MaKH': 'KH004', 'TenKH': 'Nguyen Hoai Nguyen', 'DiaChi': 'Hoa Cam', 'SoDT': '0905123456', 'MaSoThue': '12345681', '_id': ObjectId('663c810db11cfd91c8ad86d5')}\n",
      "Inserted document: {'MaKH': 'KH005', 'TenKH': 'Le Truong Ngoc Anh', 'DiaChi': 'Hai Chau', 'SoDT': '0905123456', 'MaSoThue': '12345682', '_id': ObjectId('663c810db11cfd91c8ad86d6')}\n",
      "Inserted document: {'MaKH': 'KH006', 'TenKH': 'Ho Hoai Anh', 'DiaChi': 'Hai Chau', 'SoDT': '0905123456', 'MaSoThue': '12345683', '_id': ObjectId('663c810db11cfd91c8ad86d7')}\n",
      "Inserted document: {'MaKH': 'KH007', 'TenKH': 'Pham Thi Thuong', 'DiaChi': 'Son Tra', 'SoDT': '0905123456', 'MaSoThue': '12345684', '_id': ObjectId('663c810db11cfd91c8ad86d8')}\n",
      "Inserted document: {'MaKH': 'KH008', 'TenKH': 'Chau Trinh Tri', 'DiaChi': 'Hai Chau', 'SoDT': '0905123456', 'MaSoThue': '12345685', '_id': ObjectId('663c810db11cfd91c8ad86d9')}\n",
      "Inserted document: {'MaKH': 'KH009', 'TenKH': 'Phan Nhu Thao', 'DiaChi': 'Hoa Khanh', 'SoDT': '0905123456', 'MaSoThue': '1234566', '_id': ObjectId('663c810db11cfd91c8ad86da')}\n",
      "Inserted document: {'MaKH': 'KH010', 'TenKH': 'Tran Thi To Tam', 'DiaChi': 'Son Tra', 'SoDT': '0905123457', 'MaSoThue': '12345687', '_id': ObjectId('663c810db11cfd91c8ad86db')}\n",
      "Inserted document: {'MaTienGio': 'MT01', 'DonGia': 60000, 'MoTa': 'Ap dung tu 6 gio den 17 gio', '_id': ObjectId('663c810db11cfd91c8ad86dc')}\n",
      "Inserted document: {'MaTienGio': 'MT02', 'DonGia': 80000, 'MoTa': 'Ap dung tu 17 gio den 22 gio', '_id': ObjectId('663c810db11cfd91c8ad86dd')}\n",
      "Inserted document: {'MaTienGio': 'MT03', 'DonGia': 100000, 'MoTa': 'Ap dung tu 22 gio den 6 gio', '_id': ObjectId('663c810db11cfd91c8ad86de')}\n",
      "Inserted document: {'MaPhong': 'P02', 'SoKhachToiDa': 10, 'TrangThai': 'Duoc Su Dung', 'Mota': 'phong binh thuong', '_id': ObjectId('663c810eb11cfd91c8ad86df')}\n",
      "Inserted document: {'MaPhong': 'P03', 'SoKhachToiDa': 15, 'TrangThai': 'Duoc Su Dung', 'Mota': 'phong binh thuong', '_id': ObjectId('663c810eb11cfd91c8ad86e0')}\n",
      "Inserted document: {'MaPhong': 'P05', 'SoKhachToiDa': 25, 'TrangThai': 'Duoc Su Dung', 'Mota': 'phong binh thuong', '_id': ObjectId('663c810eb11cfd91c8ad86e1')}\n",
      "Inserted document: {'MaPhong': 'P06', 'SoKhachToiDa': 30, 'TrangThai': 'Duoc Su Dung', 'Mota': 'phong binh thuong', '_id': ObjectId('663c810eb11cfd91c8ad86e2')}\n",
      "Inserted document: {'MaPhong': 'P08', 'SoKhachToiDa': 40, 'TrangThai': 'Duoc Su Dung', 'Mota': 'phong binh thuong', '_id': ObjectId('663c810eb11cfd91c8ad86e3')}\n",
      "Inserted document: {'MaPhong': 'P10', 'SoKhachToiDa': 50, 'TrangThai': 'Duoc Su Dung', 'Mota': 'phong binh thuong', '_id': ObjectId('663c810eb11cfd91c8ad86e4')}\n",
      "Inserted document: {'MaPhong': 'VIP01', 'SoKhachToiDa': 5, 'TrangThai': 'Duoc Su Dung', 'Mota': 'phong vip', '_id': ObjectId('663c810eb11cfd91c8ad86e5')}\n",
      "Inserted document: {'MaPhong': 'VIP04', 'SoKhachToiDa': 20, 'TrangThai': 'Duoc Su Dung', 'Mota': 'phong vip', '_id': ObjectId('663c810eb11cfd91c8ad86e6')}\n",
      "Inserted document: {'MaPhong': 'VIP07', 'SoKhachToiDa': 35, 'TrangThai': 'Duoc Su Dung', 'Mota': 'phong vip', '_id': ObjectId('663c810eb11cfd91c8ad86e7')}\n",
      "Inserted document: {'MaPhong': 'VIP09', 'SoKhachToiDa': 45, 'TrangThai': 'Duoc Su Dung', 'Mota': 'phong vip', '_id': ObjectId('663c810eb11cfd91c8ad86e8')}\n",
      "Inserted document: {'MaDV': 'DV01', 'TenDV': 'Hat Dua', 'DonViTinh': 'Bao', 'DonGia': 5000, '_id': ObjectId('663c810eb11cfd91c8ad86e9')}\n",
      "Inserted document: {'MaDV': 'DV02', 'TenDV': 'Trai Cay', 'DonViTinh': 'Dia', 'DonGia': 30000, '_id': ObjectId('663c810eb11cfd91c8ad86ea')}\n",
      "Inserted document: {'MaDV': 'DV03', 'TenDV': 'Bia', 'DonViTinh': 'Lon', 'DonGia': 35000, '_id': ObjectId('663c810eb11cfd91c8ad86eb')}\n",
      "Inserted document: {'MaDV': 'DV04', 'TenDV': 'Nuoc Ngot', 'DonViTinh': 'Chai', 'DonGia': 10000, '_id': ObjectId('663c810eb11cfd91c8ad86ec')}\n",
      "Inserted document: {'MaDV': 'DV05', 'TenDV': 'Ruou', 'DonViTinh': 'Chai', 'DonGia': 200000, '_id': ObjectId('663c810eb11cfd91c8ad86ed')}\n",
      "Inserted document: {'MaHD': 'HD001', 'MaKH': 'KH001', 'MaPhong': 'VIP01', 'MaTienGio': 'MT01', 'ThoiGianBatDauSD': datetime.datetime(2015, 11, 20, 8, 15), 'ThoiGianKetThucSD': datetime.datetime(2015, 11, 20, 12, 30), 'TrangThaiHD': 'Da thanh toan', '_id': ObjectId('663c810fb11cfd91c8ad86ee')}\n",
      "Inserted document: {'MaHD': 'HD002', 'MaKH': 'KH002', 'MaPhong': 'P02', 'MaTienGio': 'MT01', 'ThoiGianBatDauSD': datetime.datetime(2015, 12, 12, 13, 10), 'ThoiGianKetThucSD': datetime.datetime(2015, 12, 12, 17, 20), 'TrangThaiHD': 'Chua thanh toan', '_id': ObjectId('663c810fb11cfd91c8ad86ef')}\n",
      "Inserted document: {'MaHD': 'HD003', 'MaKH': 'KH001', 'MaPhong': 'P02', 'MaTienGio': 'MT01', 'ThoiGianBatDauSD': datetime.datetime(2014, 10, 15, 12, 12), 'ThoiGianKetThucSD': datetime.datetime(2014, 10, 15, 16, 30), 'TrangThaiHD': 'Da thanh toan', '_id': ObjectId('663c810fb11cfd91c8ad86f0')}\n",
      "Inserted document: {'MaHD': 'HD004', 'MaKH': 'KH003', 'MaPhong': 'VIP01', 'MaTienGio': 'MT02', 'ThoiGianBatDauSD': datetime.datetime(2015, 9, 20, 18, 30), 'ThoiGianKetThucSD': datetime.datetime(2015, 9, 20, 21, 0), 'TrangThaiHD': 'Chua thanh toan', '_id': ObjectId('663c810fb11cfd91c8ad86f1')}\n",
      "Inserted document: {'MaHD': 'HD005', 'MaKH': 'KH001', 'MaPhong': 'P03', 'MaTienGio': 'MT02', 'ThoiGianBatDauSD': datetime.datetime(2014, 11, 25, 20, 0), 'ThoiGianKetThucSD': datetime.datetime(2014, 11, 25, 21, 45), 'TrangThaiHD': 'Thanh toan mot phan', '_id': ObjectId('663c810fb11cfd91c8ad86f2')}\n",
      "Inserted document: {'MaHD': 'HD006', 'MaKH': 'KH002', 'MaPhong': 'VIP01', 'MaTienGio': 'MT01', 'ThoiGianBatDauSD': datetime.datetime(2014, 9, 12, 9, 20), 'ThoiGianKetThucSD': datetime.datetime(2014, 9, 12, 10, 45), 'TrangThaiHD': 'Da thanh toan', '_id': ObjectId('663c810fb11cfd91c8ad86f3')}\n",
      "Inserted document: {'MaHD': 'HD007', 'MaKH': 'KH006', 'MaPhong': 'VIP04', 'MaTienGio': 'MT01', 'ThoiGianBatDauSD': datetime.datetime(2014, 12, 22, 11, 0), 'ThoiGianKetThucSD': datetime.datetime(2014, 12, 22, 14, 20), 'TrangThaiHD': 'Da thanh toan', '_id': ObjectId('663c810fb11cfd91c8ad86f4')}\n",
      "Inserted document: {'MaHD': 'HD008', 'MaKH': 'KH007', 'MaPhong': 'VIP04', 'MaTienGio': 'MT02', 'ThoiGianBatDauSD': datetime.datetime(2014, 8, 23, 20, 10), 'ThoiGianKetThucSD': datetime.datetime(2014, 8, 23, 22, 0), 'TrangThaiHD': 'Chua thanh toan', '_id': ObjectId('663c810fb11cfd91c8ad86f5')}\n",
      "Inserted document: {'MaHD': 'HD009', 'MaKH': 'KH006', 'MaPhong': 'P05', 'MaTienGio': 'MT03', 'ThoiGianBatDauSD': datetime.datetime(2015, 12, 20, 22, 30), 'ThoiGianKetThucSD': datetime.datetime(2015, 12, 21, 1, 15), 'TrangThaiHD': 'Chua thanh toan', '_id': ObjectId('663c810fb11cfd91c8ad86f6')}\n",
      "Inserted document: {'MaHD': 'HD010', 'MaKH': 'KH005', 'MaPhong': 'VIP01', 'MaTienGio': 'MT03', 'ThoiGianBatDauSD': datetime.datetime(2015, 10, 10, 1, 30), 'ThoiGianKetThucSD': datetime.datetime(2015, 10, 10, 3, 15), 'TrangThaiHD': 'Da thanh toan', '_id': ObjectId('663c810fb11cfd91c8ad86f7')}\n",
      "Inserted document: {'MaHD': 'HD011', 'MaKH': 'KH004', 'MaPhong': 'VIP07', 'MaTienGio': 'MT03', 'ThoiGianBatDauSD': datetime.datetime(2015, 12, 25, 22, 15), 'ThoiGianKetThucSD': datetime.datetime(2015, 12, 26, 2, 0), 'TrangThaiHD': 'Da thanh toan', '_id': ObjectId('663c810fb11cfd91c8ad86f8')}\n",
      "Inserted document: {'MaHD': 'HD012', 'MaKH': 'KH008', 'MaPhong': 'P06', 'MaTienGio': 'MT03', 'ThoiGianBatDauSD': datetime.datetime(2015, 7, 25, 23, 45), 'ThoiGianKetThucSD': datetime.datetime(2015, 7, 26, 2, 15), 'TrangThaiHD': 'Da thanh toan', '_id': ObjectId('663c810fb11cfd91c8ad86f9')}\n",
      "Inserted document: {'MaHD': 'HD013', 'MaKH': 'KH007', 'MaPhong': 'VIP07', 'MaTienGio': 'MT02', 'ThoiGianBatDauSD': datetime.datetime(2015, 8, 21, 18, 15), 'ThoiGianKetThucSD': datetime.datetime(2015, 8, 21, 20, 45), 'TrangThaiHD': 'Da thanh toan', '_id': ObjectId('663c810fb11cfd91c8ad86fa')}\n",
      "Inserted document: {'MaHD': 'HD014', 'MaKH': 'KH004', 'MaPhong': 'P06', 'MaTienGio': 'MT02', 'ThoiGianBatDauSD': datetime.datetime(2015, 12, 31, 19, 12), 'ThoiGianKetThucSD': datetime.datetime(2015, 12, 31, 21, 15), 'TrangThaiHD': 'Thanh toan mot phan', '_id': ObjectId('663c810fb11cfd91c8ad86fb')}\n",
      "Inserted document: {'MaHD': 'HD015', 'MaKH': 'KH001', 'MaPhong': 'P06', 'MaTienGio': 'MT01', 'ThoiGianBatDauSD': datetime.datetime(2014, 6, 24, 13, 0), 'ThoiGianKetThucSD': datetime.datetime(2014, 6, 24, 13, 15), 'TrangThaiHD': 'Thanh toan mot phan', '_id': ObjectId('663c810fb11cfd91c8ad86fc')}\n",
      "Inserted document: {'MaHD': 'HD016', 'MaKH': 'KH003', 'MaPhong': 'P08', 'MaTienGio': 'MT01', 'ThoiGianBatDauSD': datetime.datetime(2014, 5, 12, 8, 0), 'ThoiGianKetThucSD': datetime.datetime(2014, 5, 12, 10, 45), 'TrangThaiHD': 'Thanh toan mot phan', '_id': ObjectId('663c810fb11cfd91c8ad86fd')}\n",
      "Inserted document: {'MaHD': 'HD017', 'MaKH': 'KH003', 'MaPhong': 'VIP09', 'MaTienGio': 'MT01', 'ThoiGianBatDauSD': datetime.datetime(2015, 11, 20, 12, 15), 'ThoiGianKetThucSD': datetime.datetime(2015, 11, 20, 14, 20), 'TrangThaiHD': 'Da thanh toan', '_id': ObjectId('663c810fb11cfd91c8ad86fe')}\n",
      "Inserted document: {'MaHD': 'HD018', 'MaKH': 'KH001', 'MaPhong': 'P10', 'MaTienGio': 'MT01', 'ThoiGianBatDauSD': datetime.datetime(2015, 4, 12, 14, 45), 'ThoiGianKetThucSD': datetime.datetime(2015, 4, 12, 16, 45), 'TrangThaiHD': 'Da thanh toan', '_id': ObjectId('663c810fb11cfd91c8ad86ff')}\n",
      "Inserted document: {'MaHD': 'HD019', 'MaKH': 'KH002', 'MaPhong': 'VIP09', 'MaTienGio': 'MT03', 'ThoiGianBatDauSD': datetime.datetime(2015, 11, 12, 22, 12), 'ThoiGianKetThucSD': datetime.datetime(2015, 11, 13, 2, 0), 'TrangThaiHD': 'Da thanh toan', '_id': ObjectId('663c810fb11cfd91c8ad8700')}\n",
      "Inserted document: {'MaHD': 'HD020', 'MaKH': 'KH004', 'MaPhong': 'VIP09', 'MaTienGio': 'MT03', 'ThoiGianBatDauSD': datetime.datetime(2014, 2, 25, 1, 15), 'ThoiGianKetThucSD': datetime.datetime(2014, 2, 25, 4, 15), 'TrangThaiHD': 'Chua thanh toan', '_id': ObjectId('663c810fb11cfd91c8ad8701')}\n",
      "Inserted document: {'MaHD': 'HD021', 'MaKH': 'KH001', 'MaPhong': 'VIP01', 'MaTienGio': 'MT01', 'ThoiGianBatDauSD': datetime.datetime(2024, 3, 20, 8, 15), 'ThoiGianKetThucSD': datetime.datetime(2024, 3, 21, 12, 30), 'TrangThaiHD': 'Chua thanh toan', '_id': ObjectId('663c810fb11cfd91c8ad8702')}\n",
      "Inserted document: {'MaHD': 'HD001', 'MaDV': 'DV01', 'SoLuong': 5, '_id': ObjectId('663c810fb11cfd91c8ad8703')}\n",
      "Inserted document: {'MaHD': 'HD002', 'MaDV': 'DV01', 'SoLuong': 8, '_id': ObjectId('663c810fb11cfd91c8ad8704')}\n",
      "Inserted document: {'MaHD': 'HD002', 'MaDV': 'DV02', 'SoLuong': 5, '_id': ObjectId('663c810fb11cfd91c8ad8705')}\n",
      "Inserted document: {'MaHD': 'HD002', 'MaDV': 'DV03', 'SoLuong': 2, '_id': ObjectId('663c810fb11cfd91c8ad8706')}\n",
      "Inserted document: {'MaHD': 'HD003', 'MaDV': 'DV04', 'SoLuong': 1, '_id': ObjectId('663c810fb11cfd91c8ad8707')}\n",
      "Inserted document: {'MaHD': 'HD003', 'MaDV': 'DV05', 'SoLuong': 6, '_id': ObjectId('663c810fb11cfd91c8ad8708')}\n",
      "Inserted document: {'MaHD': 'HD004', 'MaDV': 'DV01', 'SoLuong': 5, '_id': ObjectId('663c810fb11cfd91c8ad8709')}\n",
      "Inserted document: {'MaHD': 'HD005', 'MaDV': 'DV02', 'SoLuong': 3, '_id': ObjectId('663c810fb11cfd91c8ad870a')}\n",
      "Inserted document: {'MaHD': 'HD005', 'MaDV': 'DV03', 'SoLuong': 10, '_id': ObjectId('663c810fb11cfd91c8ad870b')}\n",
      "Inserted document: {'MaHD': 'HD005', 'MaDV': 'DV04', 'SoLuong': 2, '_id': ObjectId('663c810fb11cfd91c8ad870c')}\n",
      "Inserted document: {'MaHD': 'HD006', 'MaDV': 'DV01', 'SoLuong': 5, '_id': ObjectId('663c810fb11cfd91c8ad870d')}\n",
      "Inserted document: {'MaHD': 'HD007', 'MaDV': 'DV03', 'SoLuong': 8, '_id': ObjectId('663c810fb11cfd91c8ad870e')}\n",
      "Inserted document: {'MaHD': 'HD007', 'MaDV': 'DV04', 'SoLuong': 110, '_id': ObjectId('663c810fb11cfd91c8ad870f')}\n",
      "Inserted document: {'MaHD': 'HD007', 'MaDV': 'DV05', 'SoLuong': 4, '_id': ObjectId('663c810fb11cfd91c8ad8710')}\n",
      "Inserted document: {'MaHD': 'HD011', 'MaDV': 'DV02', 'SoLuong': 8, '_id': ObjectId('663c810fb11cfd91c8ad8711')}\n",
      "Inserted document: {'MaHD': 'HD013', 'MaDV': 'DV02', 'SoLuong': 9, '_id': ObjectId('663c810fb11cfd91c8ad8712')}\n"
     ]
    }
   ],
   "source": [
    "# Insert dữ liệu vào MongoDB\n",
    "for table in listTable:\n",
    "\n",
    "    fields = cursor.execute(\"SELECT COLUMN_NAME FROM \" + dbName + \".INFORMATION_SCHEMA.COLUMNS WHERE TABLE_NAME = N'\" + table + \"'\").fetchall()\n",
    "    primaryKeys = cursor.execute(\"SELECT COLUMN_NAME FROM \" + dbName + \".INFORMATION_SCHEMA.KEY_COLUMN_USAGE WHERE TABLE_NAME = '\" + table + \"'\").fetchall()\n",
    "    rows = cursor.execute(\"SELECT * FROM \" + dbName + \".dbo.\" + table).fetchall()\n",
    "\n",
    "    for row in rows:\n",
    "        # Tạo document từ row của SQL Server\n",
    "        document = {fields[i][0]: row[i] for i in range(len(row)) if fields[i][0] != 'rowguid'}\n",
    "\n",
    "        # Nếu document đã tồn tại thì bỏ qua\n",
    "        if db[table].find_one(document) is not None:\n",
    "            print(\"Document already exists.\")\n",
    "            continue\n",
    "\n",
    "        # Nếu document chỉ có khóa chính giống nhau thì cập nhật document\n",
    "        elif db[table].find_one({key[0]: document[key[0]] for key in primaryKeys}) is not None:\n",
    "            db[table].update_one({key[0]: document[key[0]] for key in primaryKeys}, {'$set': document})\n",
    "            print(\"Updated document:\", document)\n",
    "\n",
    "        # Thêm document mới\n",
    "        else:\n",
    "            db[table].insert_one(document)\n",
    "            print(\"Inserted document:\", document)"
   ]
  },
  {
   "cell_type": "code",
   "execution_count": 18,
   "metadata": {},
   "outputs": [],
   "source": [
    "# Đóng kết nối\n",
    "conn_sql.close()\n",
    "client.close()"
   ]
  }
 ],
 "metadata": {
  "kernelspec": {
   "display_name": "Python 3",
   "language": "python",
   "name": "python3"
  },
  "language_info": {
   "codemirror_mode": {
    "name": "ipython",
    "version": 3
   },
   "file_extension": ".py",
   "mimetype": "text/x-python",
   "name": "python",
   "nbconvert_exporter": "python",
   "pygments_lexer": "ipython3",
   "version": "3.10.6"
  }
 },
 "nbformat": 4,
 "nbformat_minor": 2
}
